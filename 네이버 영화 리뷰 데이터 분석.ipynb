{
  "nbformat": 4,
  "nbformat_minor": 0,
  "metadata": {
    "colab": {
      "name": "네이버 영화 리뷰 데이터 분석.ipynb",
      "provenance": [],
      "collapsed_sections": [],
      "toc_visible": true,
      "authorship_tag": "ABX9TyMVkJqHaiWwiow66Mee2EB+",
      "include_colab_link": true
    },
    "kernelspec": {
      "name": "python3",
      "display_name": "Python 3"
    }
  },
  "cells": [
    {
      "cell_type": "markdown",
      "metadata": {
        "id": "view-in-github",
        "colab_type": "text"
      },
      "source": [
        "<a href=\"https://colab.research.google.com/github/HelloJinny/Naver-Movie-Review/blob/main/%EB%84%A4%EC%9D%B4%EB%B2%84%20%EC%98%81%ED%99%94%20%EB%A6%AC%EB%B7%B0%20%EB%8D%B0%EC%9D%B4%ED%84%B0%20%EB%B6%84%EC%84%9D.ipynb\" target=\"_parent\"><img src=\"https://colab.research.google.com/assets/colab-badge.svg\" alt=\"Open In Colab\"/></a>"
      ]
    },
    {
      "cell_type": "markdown",
      "metadata": {
        "id": "fAFsYEyFUrtR"
      },
      "source": [
        "# 네이버 영화 리뷰 데이터 분석"
      ]
    },
    {
      "cell_type": "markdown",
      "metadata": {
        "id": "gp6T5eHuYPwR"
      },
      "source": [
        "## 영화 정보 크롤링"
      ]
    },
    {
      "cell_type": "markdown",
      "metadata": {
        "id": "7AD7nAWEYaaf"
      },
      "source": [
        "#### 리뷰 정보 클래스 작성"
      ]
    },
    {
      "cell_type": "code",
      "metadata": {
        "id": "V9gpmVQLYMMA"
      },
      "source": [
        "import urllib.request\n",
        "from bs4 import BeautifulSoup"
      ],
      "execution_count": 47,
      "outputs": []
    },
    {
      "cell_type": "code",
      "metadata": {
        "id": "L2wFXtj9YRAp"
      },
      "source": [
        "class Review:\n",
        "    def __init__(self, comment, date, star, good, bad):\n",
        "        self.comment = comment\n",
        "        self.date = date\n",
        "        self.star = star\n",
        "        self.good = good\n",
        "        self.bad = bad\n",
        "\n",
        "    def show(self):\n",
        "        print(\"내용: \" + self.comment +\n",
        "              \"\\n날짜: \" + self.date+\n",
        "              \"\\n별점: \" + self.star +\n",
        "              \"\\n좋아요: \" + self.good +\n",
        "              \"\\n싫어요: \" + self.bad)\n"
      ],
      "execution_count": 48,
      "outputs": []
    },
    {
      "cell_type": "markdown",
      "metadata": {
        "id": "tY5X_TBUYjai"
      },
      "source": [
        "#### 리뷰 정보 크롤링 함수"
      ]
    },
    {
      "cell_type": "code",
      "metadata": {
        "id": "AQSTNTr2ZJGc"
      },
      "source": [
        "def crawl(url):\n",
        "    soup = BeautifulSoup(urllib.request.urlopen(url).read(), \"html.parser\")\n",
        "    review_list = []\n",
        "    title = soup.find('h3', class_='h_movie').find('a').text\n",
        "    div = soup.find(\"div\", class_=\"score_result\")\n",
        "    data_list = div.select(\"ul > li\")\n",
        "    \n",
        "    for review in data_list:\n",
        "        star = review.find(\"div\", class_=\"star_score\").text.strip()\n",
        "        reply = review.find(\"div\", class_=\"score_reple\")\n",
        "        comment = reply.find(\"p\").text.strip()\n",
        "        date = reply.select(\"dt > em\")[1].text.strip()\n",
        "        button = review.find(\"div\", class_=\"btn_area\")\n",
        "        sympathy = button.select(\"strong\")\n",
        "        good = sympathy[0].text\n",
        "        bad = sympathy[1].text\n",
        "        review_list.append(Review(comment, date, star, good, bad))\n",
        "    \n",
        "    return title, review_list"
      ],
      "execution_count": 49,
      "outputs": []
    },
    {
      "cell_type": "markdown",
      "metadata": {
        "id": "6NH7LCGkZPT_"
      },
      "source": [
        "#### 리뷰 정보 크롤링"
      ]
    },
    {
      "cell_type": "code",
      "metadata": {
        "id": "525m8P-1Ykuy",
        "outputId": "05f30688-7160-4127-bc0b-efcf8bb7e939",
        "colab": {
          "base_uri": "https://localhost:8080/"
        }
      },
      "source": [
        "title, review_list = crawl(\"https://movie.naver.com/movie/bi/mi/basic.nhn?code=189141\")\n",
        "print('제목: ' + title)\n",
        "for review in review_list:\n",
        "    review.show()"
      ],
      "execution_count": 50,
      "outputs": [
        {
          "output_type": "stream",
          "text": [
            "제목: 삼진그룹 영어토익반\n",
            "내용: 어제의 너 보다 오늘 더 성장했는데~? ㅋㅋ 명대사! 너무재밌었어요!! +_+ 기대이상이었습니다~\n",
            "날짜: 2020.10.21 13:53\n",
            "별점: 10\n",
            "좋아요: 997\n",
            "싫어요: 211\n",
            "내용: 2020년 본 영화중에 가장 기분 좋게 본 영화같아요\n",
            "날짜: 2020.10.21 15:43\n",
            "별점: 10\n",
            "좋아요: 824\n",
            "싫어요: 160\n",
            "내용: 근래 본 영화 중 최고! 박혜수 진짜 너무 귀여워ㅜㅜ\n",
            "날짜: 2020.10.21 15:36\n",
            "별점: 10\n",
            "좋아요: 798\n",
            "싫어요: 175\n",
            "내용: 억지신파 내용 아니라서 더 맘에 들어요 배우들 케미 좋네요ㅎㅎ\n",
            "날짜: 2020.10.21 15:44\n",
            "별점: 10\n",
            "좋아요: 699\n",
            "싫어요: 145\n",
            "내용: 정의로운 세상을 꿈꾸게 되는 영화였습니다 좋아요ㅎㅎ\n",
            "날짜: 2020.10.21 13:52\n",
            "별점: 10\n",
            "좋아요: 622\n",
            "싫어요: 144\n"
          ],
          "name": "stdout"
        }
      ]
    },
    {
      "cell_type": "markdown",
      "metadata": {
        "id": "1BG_1guMYnrk"
      },
      "source": [
        "---\n",
        "---\n",
        "---\n",
        "---\n",
        "---"
      ]
    },
    {
      "cell_type": "markdown",
      "metadata": {
        "id": "U4mpKKSKYrB1"
      },
      "source": [
        "## 2. 데이터 시각화\n"
      ]
    },
    {
      "cell_type": "markdown",
      "metadata": {
        "id": "cv3QYCNZYrt-"
      },
      "source": [
        "#### 데이터 프레임화"
      ]
    },
    {
      "cell_type": "code",
      "metadata": {
        "id": "-wRw9Y8kYfgh"
      },
      "source": [
        "import pandas as pd"
      ],
      "execution_count": 51,
      "outputs": []
    },
    {
      "cell_type": "code",
      "metadata": {
        "id": "1T84dZfDYfjJ"
      },
      "source": [
        "def get_summary(review_list):\n",
        "    star_list = []\n",
        "    good_list = []\n",
        "    bad_list = []\n",
        "    \n",
        "    for review in review_list:\n",
        "        star_list.append(int(review.star))\n",
        "        good_list.append(int(review.good))\n",
        "        bad_list.append(int(review.bad))\n",
        "        \n",
        "    star_series = pd.Series(star_list)\n",
        "    good_series = pd.Series(good_list)\n",
        "    bad_series = pd.Series(bad_list)\n",
        "    \n",
        "    summary = pd.DataFrame({\n",
        "        'Star': star_series,\n",
        "        'Good': good_series,\n",
        "        'Bad': bad_series,\n",
        "        'Score': good_series / (good_series + bad_series)\n",
        "    })\n",
        "    \n",
        "    return summary"
      ],
      "execution_count": 52,
      "outputs": []
    },
    {
      "cell_type": "markdown",
      "metadata": {
        "id": "4HTaOTBLY380"
      },
      "source": [
        "#### 다수의 영화 데이터 시각화 1"
      ]
    },
    {
      "cell_type": "code",
      "metadata": {
        "id": "_hBo5GNtY55N",
        "outputId": "64fbbddc-ed84-42f3-a471-674024b5ba6f",
        "colab": {
          "base_uri": "https://localhost:8080/"
        }
      },
      "source": [
        "movie_code_list = [136900, 167657, 174321, 184859, 167391]\n",
        "review_lists = []\n",
        "\n",
        "for i in movie_code_list:\n",
        "    title, review_list = crawl(\"https://movie.naver.com/movie/bi/mi/basic.nhn?code=\" + str(i))\n",
        "    summary = get_summary(review_list)\n",
        "    print(\"[ %s ]\" % (title))\n",
        "    print(summary)\n",
        "    review_lists.append((title, review_list))"
      ],
      "execution_count": 53,
      "outputs": [
        {
          "output_type": "stream",
          "text": [
            "[ 어벤져스: 엔드게임 ]\n",
            "   Star   Good  Bad     Score\n",
            "0    10  23667  662  0.972790\n",
            "1    10  15673  442  0.972572\n",
            "2    10  15280  473  0.969974\n",
            "3    10  13509  552  0.960742\n",
            "4    10  11839  434  0.964638\n",
            "[ 명탐정 피카츄 ]\n",
            "   Star  Good  Bad     Score\n",
            "0    10  1956  105  0.949054\n",
            "1    10   983   85  0.920412\n",
            "2    10   846   73  0.920566\n",
            "3     8   955  283  0.771405\n",
            "4     8   630   43  0.936107\n",
            "[ 고양이 여행 리포트 ]\n",
            "   Star  Good  Bad     Score\n",
            "0    10    75    5  0.937500\n",
            "1    10    45    3  0.937500\n",
            "2    10    35    4  0.897436\n",
            "3    10    32    2  0.941176\n",
            "4     6    53   24  0.688312\n",
            "[ 물의 기억 ]\n",
            "   Star  Good  Bad     Score\n",
            "0    10    28   11  0.717949\n",
            "1    10    26   11  0.702703\n",
            "2    10    23   10  0.696970\n",
            "3    10    18    6  0.750000\n",
            "4    10    21    9  0.700000\n",
            "[ 더 캡틴 ]\n",
            "   Star  Good  Bad     Score\n",
            "0     9    84   12  0.875000\n",
            "1    10    45    5  0.900000\n",
            "2    10    46    7  0.867925\n",
            "3     8    38    6  0.863636\n",
            "4     8    28    0  1.000000\n"
          ],
          "name": "stdout"
        }
      ]
    },
    {
      "cell_type": "markdown",
      "metadata": {
        "id": "CTHlSolYY8Ae"
      },
      "source": [
        "#### 다수의 영화 데이터 시각화 2"
      ]
    },
    {
      "cell_type": "code",
      "metadata": {
        "id": "HDcgwb-rY58N"
      },
      "source": [
        "!apt-get update -qq\n",
        "!apt-get install fonts-nanum* -qq"
      ],
      "execution_count": 54,
      "outputs": []
    },
    {
      "cell_type": "code",
      "metadata": {
        "id": "k1fT7-dvYfl4"
      },
      "source": [
        "import matplotlib\n",
        "import matplotlib.pyplot as plt\n",
        "import matplotlib.font_manager as fm"
      ],
      "execution_count": 55,
      "outputs": []
    },
    {
      "cell_type": "code",
      "metadata": {
        "id": "4PtPkXcRYfoZ",
        "outputId": "1883d82e-634b-4c98-8ab9-32568d522a1b",
        "colab": {
          "base_uri": "https://localhost:8080/",
          "height": 310
        }
      },
      "source": [
        "font_path = '/usr/share/fonts/truetype/nanum/NanumBarunGothic.ttf'\n",
        "fontprop = fm.FontProperties(fname=font_path, size=18)\n",
        "\n",
        "def movie_compare(review_lists):\n",
        "  count = 1\n",
        "  x = []\n",
        "  y = []\n",
        "\n",
        "  for movie, review_list in review_lists:\n",
        "    x.append(count)\n",
        "    summary = get_summary(review_list)\n",
        "    summary = summary[summary['Score'] > 0.8]\n",
        "    y.append(summary['Star'].mean())\n",
        "    count += 1\n",
        "    \n",
        "  plt.bar(x, y)\n",
        "  plt.title('영화 별점 비교', fontproperties=fontprop)\n",
        "  plt.xlabel('영화 번호', fontproperties=fontprop)\n",
        "  plt.ylabel('신뢰성 별점 평균', fontproperties=fontprop)\n",
        "  plt.show()\n",
        "  \n",
        "movie_compare(review_lists)"
      ],
      "execution_count": 56,
      "outputs": [
        {
          "output_type": "display_data",
          "data": {
            "image/png": "[encoded data removed]",
            "text/plain": [
              "<Figure size 432x288 with 1 Axes>"
            ]
          },
          "metadata": {
            "tags": [],
            "needs_background": "light"
          }
        }
      ]
    }
  ]
}